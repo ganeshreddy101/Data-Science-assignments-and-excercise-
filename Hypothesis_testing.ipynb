{
  "nbformat": 4,
  "nbformat_minor": 0,
  "metadata": {
    "colab": {
      "provenance": []
    },
    "kernelspec": {
      "name": "python3",
      "display_name": "Python 3"
    },
    "language_info": {
      "name": "python"
    }
  },
  "cells": [
    {
      "cell_type": "code",
      "execution_count": null,
      "metadata": {
        "id": "YYSELtkKFi5k"
      },
      "outputs": [],
      "source": [
        "#import the libraries\n",
        "import pandas as pd\n",
        "import scipy\n",
        "import numpy as np\n",
        "from scipy import stats"
      ]
    },
    {
      "cell_type": "markdown",
      "source": [
        "**HYPOTHESIS TESTING**\n",
        "\n",
        "Given data is sample, we should calculate by t-distribution.\n",
        "\n",
        "For given problem, h0: There is no difference in cost model, it will be accurate\n",
        "                   h1: There is a difference in cost model, it will can be inaccurate.\n",
        "\n"
      ],
      "metadata": {
        "id": "nK3WMg9CFsn3"
      }
    },
    {
      "cell_type": "markdown",
      "source": [
        "By t-distribution we can calculate,"
      ],
      "metadata": {
        "id": "mKNvhp7yImkF"
      }
    },
    {
      "cell_type": "code",
      "source": [
        "mean = 1000 + 5 * 600\n",
        "sample_mean = 3050\n",
        "standard_deviation = 5*25\n",
        "sample_size = 25\n",
        "alpha = 0.05"
      ],
      "metadata": {
        "id": "Vjybll7XK48P"
      },
      "execution_count": 27,
      "outputs": []
    },
    {
      "cell_type": "code",
      "source": [
        "standard_error = standard_deviation / np.sqrt(sample_size)\n",
        "t_statistic = (sample_mean - mean) / standard_error\n",
        "print('t statistic:',t_statistic)\n",
        "print('standard_error',standard_error)"
      ],
      "metadata": {
        "colab": {
          "base_uri": "https://localhost:8080/"
        },
        "id": "9WUb4QVnFqhC",
        "outputId": "dd009727-41de-47b3-c71e-2d219276c9dc"
      },
      "execution_count": 28,
      "outputs": [
        {
          "output_type": "stream",
          "name": "stdout",
          "text": [
            "t statistic: -38.0\n",
            "standard_error 25.0\n"
          ]
        }
      ]
    },
    {
      "cell_type": "code",
      "source": [
        "from scipy import stats\n",
        "degrees_of_freedom = sample_size - 1\n",
        "critical_value = stats.t.ppf(1.0 - alpha, degrees_of_freedom)\n",
        "print('critical value:',critical_value)"
      ],
      "metadata": {
        "colab": {
          "base_uri": "https://localhost:8080/"
        },
        "id": "i_9_tkdfFqjA",
        "outputId": "049f58f8-57f3-42f0-b6cb-0c0908c8a928"
      },
      "execution_count": 30,
      "outputs": [
        {
          "output_type": "stream",
          "name": "stdout",
          "text": [
            "critical value: 1.7108820799094275\n"
          ]
        }
      ]
    },
    {
      "cell_type": "markdown",
      "source": [
        "By above t-distribution, we have got t_statistic = -38.0 and critical value = 1.71\n",
        "\n",
        "t_statistic < critical value.\n",
        "\n",
        "This means we reject the h0.\n",
        "\n",
        "The cost model is inaccurate, the opening costs are significantly higher than the model predicts."
      ],
      "metadata": {
        "id": "Mg8XLeYDRDyd"
      }
    },
    {
      "cell_type": "markdown",
      "source": [],
      "metadata": {
        "id": "LJUhg3zqL65I"
      }
    }
  ]
}